{
 "cells": [
  {
   "cell_type": "markdown",
   "metadata": {},
   "source": [
    "# NTDS'18 milestone 1: network collection and properties\n",
    "[Effrosyni Simou](https://lts4.epfl.ch/simou), [EPFL LTS4](https://lts4.epfl.ch)"
   ]
  },
  {
   "cell_type": "markdown",
   "metadata": {},
   "source": [
    "## Students\n",
    "\n",
    "* Team: `Team 16`\n",
    "* Students: `Yinan Zhang, Yu Ting Huang, Shengzhao Xia, Zhantao Deng`\n",
    "* Dataset: `IMDb Films`"
   ]
  },
  {
   "cell_type": "markdown",
   "metadata": {},
   "source": [
    "## Rules\n",
    "\n",
    "* Milestones have to be completed by teams. No collaboration between teams is allowed.\n",
    "* Textual answers shall be short. Typically one to three sentences.\n",
    "* Code has to be clean.\n",
    "* You cannot import any other library than we imported.\n",
    "* When submitting, the notebook is executed and the results are stored. I.e., if you open the notebook again it should show numerical results and plots. We won't be able to execute your notebooks.\n",
    "* The notebook is re-executed from a blank state before submission. That is to be sure it is reproducible. You can click \"Kernel\" then \"Restart & Run All\" in Jupyter."
   ]
  },
  {
   "cell_type": "markdown",
   "metadata": {},
   "source": [
    "## Objective "
   ]
  },
  {
   "cell_type": "markdown",
   "metadata": {},
   "source": [
    "The purpose of this milestone is to start getting acquainted to the network that you will use for this class. In the first part of the milestone you will import your data using [Pandas](http://pandas.pydata.org) and you will create the adjacency matrix using [Numpy](http://www.numpy.org). This part is project specific. In the second part you will have to compute some basic properties of your network. **For the computation of the properties you are only allowed to use the packages that have been imported in the cell below.** You are not allowed to use any graph-specific toolboxes for this milestone (such as networkx and PyGSP). Furthermore, the aim is not to blindly compute the network properties, but to also start to think about what kind of network you will be working with this semester. "
   ]
  },
  {
   "cell_type": "code",
   "execution_count": 1,
   "metadata": {},
   "outputs": [],
   "source": [
    "# import packages\n",
    "import numpy as np\n",
    "import pandas as pd\n",
    "import matplotlib.pyplot as plt\n",
    "import json\n",
    "%matplotlib inline"
   ]
  },
  {
   "cell_type": "markdown",
   "metadata": {},
   "source": [
    "## Part 1 - Import your data and manipulate them. "
   ]
  },
  {
   "cell_type": "markdown",
   "metadata": {},
   "source": [
    "###  A. Load your data in a Panda dataframe."
   ]
  },
  {
   "cell_type": "markdown",
   "metadata": {},
   "source": [
    "First, you should define and understand what are your nodes, what **features** you have and what are your labels. Please provide below a **Panda dataframe** where each row corresponds to a node with its features and labels. For example, in the the case of the Free Music Archive (FMA) Project, each row of the dataframe would be of the following form:\n",
    "\n",
    "\n",
    "| Track   |  Feature 1  | Feature 2 | . . . | Feature 518|  Label 1 |  Label 2 |. . .|Label 16|\n",
    "|:-------:|:-----------:|:---------:|:-----:|:----------:|:--------:|:--------:|:---:|:------:|\n",
    "|         |             |           |       |            |          |          |     |        |\n",
    "\n",
    "It is possible that in some of the projects either the features or the labels are not available. This is OK, in that case just make sure that you create a dataframe where each of the rows corresponds to a node and its associated features or labels."
   ]
  },
  {
   "cell_type": "markdown",
   "metadata": {},
   "source": [
    "##### 1. load dataset\n",
    "The author of the dataset provides users two functions to load data, so we directly use them: 'load_tmdb_movies' and 'load_tmdb_credits'."
   ]
  },
  {
   "cell_type": "code",
   "execution_count": 2,
   "metadata": {},
   "outputs": [],
   "source": [
    "# set file path\n",
    "File_path = r'.'\n",
    "credits_name = r'/tmdb_5000_credits.csv'\n",
    "movies_name = r'/tmdb_5000_movies.csv'\n",
    "\n",
    "# use kernal provided by kaggle to load all data\n",
    "movies_pd = pd.read_csv(File_path + movies_name)\n",
    "credits_pd = pd.read_csv(File_path + credits_name)"
   ]
  },
  {
   "cell_type": "code",
   "execution_count": 3,
   "metadata": {
    "scrolled": false
   },
   "outputs": [
    {
     "data": {
      "text/html": [
       "<div>\n",
       "<style scoped>\n",
       "    .dataframe tbody tr th:only-of-type {\n",
       "        vertical-align: middle;\n",
       "    }\n",
       "\n",
       "    .dataframe tbody tr th {\n",
       "        vertical-align: top;\n",
       "    }\n",
       "\n",
       "    .dataframe thead th {\n",
       "        text-align: right;\n",
       "    }\n",
       "</style>\n",
       "<table border=\"1\" class=\"dataframe\">\n",
       "  <thead>\n",
       "    <tr style=\"text-align: right;\">\n",
       "      <th></th>\n",
       "      <th>movie_id</th>\n",
       "      <th>title</th>\n",
       "      <th>cast</th>\n",
       "      <th>crew</th>\n",
       "    </tr>\n",
       "  </thead>\n",
       "  <tbody>\n",
       "    <tr>\n",
       "      <th>0</th>\n",
       "      <td>19995</td>\n",
       "      <td>Avatar</td>\n",
       "      <td>[{\"cast_id\": 242, \"character\": \"Jake Sully\", \"...</td>\n",
       "      <td>[{\"credit_id\": \"52fe48009251416c750aca23\", \"de...</td>\n",
       "    </tr>\n",
       "    <tr>\n",
       "      <th>1</th>\n",
       "      <td>285</td>\n",
       "      <td>Pirates of the Caribbean: At World's End</td>\n",
       "      <td>[{\"cast_id\": 4, \"character\": \"Captain Jack Spa...</td>\n",
       "      <td>[{\"credit_id\": \"52fe4232c3a36847f800b579\", \"de...</td>\n",
       "    </tr>\n",
       "  </tbody>\n",
       "</table>\n",
       "</div>"
      ],
      "text/plain": [
       "   movie_id                                     title  \\\n",
       "0     19995                                    Avatar   \n",
       "1       285  Pirates of the Caribbean: At World's End   \n",
       "\n",
       "                                                cast  \\\n",
       "0  [{\"cast_id\": 242, \"character\": \"Jake Sully\", \"...   \n",
       "1  [{\"cast_id\": 4, \"character\": \"Captain Jack Spa...   \n",
       "\n",
       "                                                crew  \n",
       "0  [{\"credit_id\": \"52fe48009251416c750aca23\", \"de...  \n",
       "1  [{\"credit_id\": \"52fe4232c3a36847f800b579\", \"de...  "
      ]
     },
     "execution_count": 3,
     "metadata": {},
     "output_type": "execute_result"
    }
   ],
   "source": [
    "# show dataframe\n",
    "credits_pd.head(2)"
   ]
  },
  {
   "cell_type": "code",
   "execution_count": 4,
   "metadata": {
    "scrolled": false
   },
   "outputs": [
    {
     "data": {
      "text/html": [
       "<div>\n",
       "<style scoped>\n",
       "    .dataframe tbody tr th:only-of-type {\n",
       "        vertical-align: middle;\n",
       "    }\n",
       "\n",
       "    .dataframe tbody tr th {\n",
       "        vertical-align: top;\n",
       "    }\n",
       "\n",
       "    .dataframe thead th {\n",
       "        text-align: right;\n",
       "    }\n",
       "</style>\n",
       "<table border=\"1\" class=\"dataframe\">\n",
       "  <thead>\n",
       "    <tr style=\"text-align: right;\">\n",
       "      <th></th>\n",
       "      <th>budget</th>\n",
       "      <th>genres</th>\n",
       "      <th>homepage</th>\n",
       "      <th>id</th>\n",
       "      <th>keywords</th>\n",
       "      <th>original_language</th>\n",
       "      <th>original_title</th>\n",
       "      <th>overview</th>\n",
       "      <th>popularity</th>\n",
       "      <th>production_companies</th>\n",
       "      <th>production_countries</th>\n",
       "      <th>release_date</th>\n",
       "      <th>revenue</th>\n",
       "      <th>runtime</th>\n",
       "      <th>spoken_languages</th>\n",
       "      <th>status</th>\n",
       "      <th>tagline</th>\n",
       "      <th>title</th>\n",
       "      <th>vote_average</th>\n",
       "      <th>vote_count</th>\n",
       "    </tr>\n",
       "  </thead>\n",
       "  <tbody>\n",
       "    <tr>\n",
       "      <th>0</th>\n",
       "      <td>237000000</td>\n",
       "      <td>[{\"id\": 28, \"name\": \"Action\"}, {\"id\": 12, \"nam...</td>\n",
       "      <td>http://www.avatarmovie.com/</td>\n",
       "      <td>19995</td>\n",
       "      <td>[{\"id\": 1463, \"name\": \"culture clash\"}, {\"id\":...</td>\n",
       "      <td>en</td>\n",
       "      <td>Avatar</td>\n",
       "      <td>In the 22nd century, a paraplegic Marine is di...</td>\n",
       "      <td>150.437577</td>\n",
       "      <td>[{\"name\": \"Ingenious Film Partners\", \"id\": 289...</td>\n",
       "      <td>[{\"iso_3166_1\": \"US\", \"name\": \"United States o...</td>\n",
       "      <td>2009-12-10</td>\n",
       "      <td>2787965087</td>\n",
       "      <td>162.0</td>\n",
       "      <td>[{\"iso_639_1\": \"en\", \"name\": \"English\"}, {\"iso...</td>\n",
       "      <td>Released</td>\n",
       "      <td>Enter the World of Pandora.</td>\n",
       "      <td>Avatar</td>\n",
       "      <td>7.2</td>\n",
       "      <td>11800</td>\n",
       "    </tr>\n",
       "    <tr>\n",
       "      <th>1</th>\n",
       "      <td>300000000</td>\n",
       "      <td>[{\"id\": 12, \"name\": \"Adventure\"}, {\"id\": 14, \"...</td>\n",
       "      <td>http://disney.go.com/disneypictures/pirates/</td>\n",
       "      <td>285</td>\n",
       "      <td>[{\"id\": 270, \"name\": \"ocean\"}, {\"id\": 726, \"na...</td>\n",
       "      <td>en</td>\n",
       "      <td>Pirates of the Caribbean: At World's End</td>\n",
       "      <td>Captain Barbossa, long believed to be dead, ha...</td>\n",
       "      <td>139.082615</td>\n",
       "      <td>[{\"name\": \"Walt Disney Pictures\", \"id\": 2}, {\"...</td>\n",
       "      <td>[{\"iso_3166_1\": \"US\", \"name\": \"United States o...</td>\n",
       "      <td>2007-05-19</td>\n",
       "      <td>961000000</td>\n",
       "      <td>169.0</td>\n",
       "      <td>[{\"iso_639_1\": \"en\", \"name\": \"English\"}]</td>\n",
       "      <td>Released</td>\n",
       "      <td>At the end of the world, the adventure begins.</td>\n",
       "      <td>Pirates of the Caribbean: At World's End</td>\n",
       "      <td>6.9</td>\n",
       "      <td>4500</td>\n",
       "    </tr>\n",
       "  </tbody>\n",
       "</table>\n",
       "</div>"
      ],
      "text/plain": [
       "      budget                                             genres  \\\n",
       "0  237000000  [{\"id\": 28, \"name\": \"Action\"}, {\"id\": 12, \"nam...   \n",
       "1  300000000  [{\"id\": 12, \"name\": \"Adventure\"}, {\"id\": 14, \"...   \n",
       "\n",
       "                                       homepage     id  \\\n",
       "0                   http://www.avatarmovie.com/  19995   \n",
       "1  http://disney.go.com/disneypictures/pirates/    285   \n",
       "\n",
       "                                            keywords original_language  \\\n",
       "0  [{\"id\": 1463, \"name\": \"culture clash\"}, {\"id\":...                en   \n",
       "1  [{\"id\": 270, \"name\": \"ocean\"}, {\"id\": 726, \"na...                en   \n",
       "\n",
       "                             original_title  \\\n",
       "0                                    Avatar   \n",
       "1  Pirates of the Caribbean: At World's End   \n",
       "\n",
       "                                            overview  popularity  \\\n",
       "0  In the 22nd century, a paraplegic Marine is di...  150.437577   \n",
       "1  Captain Barbossa, long believed to be dead, ha...  139.082615   \n",
       "\n",
       "                                production_companies  \\\n",
       "0  [{\"name\": \"Ingenious Film Partners\", \"id\": 289...   \n",
       "1  [{\"name\": \"Walt Disney Pictures\", \"id\": 2}, {\"...   \n",
       "\n",
       "                                production_countries release_date     revenue  \\\n",
       "0  [{\"iso_3166_1\": \"US\", \"name\": \"United States o...   2009-12-10  2787965087   \n",
       "1  [{\"iso_3166_1\": \"US\", \"name\": \"United States o...   2007-05-19   961000000   \n",
       "\n",
       "   runtime                                   spoken_languages    status  \\\n",
       "0    162.0  [{\"iso_639_1\": \"en\", \"name\": \"English\"}, {\"iso...  Released   \n",
       "1    169.0           [{\"iso_639_1\": \"en\", \"name\": \"English\"}]  Released   \n",
       "\n",
       "                                          tagline  \\\n",
       "0                     Enter the World of Pandora.   \n",
       "1  At the end of the world, the adventure begins.   \n",
       "\n",
       "                                      title  vote_average  vote_count  \n",
       "0                                    Avatar           7.2       11800  \n",
       "1  Pirates of the Caribbean: At World's End           6.9        4500  "
      ]
     },
     "execution_count": 4,
     "metadata": {},
     "output_type": "execute_result"
    }
   ],
   "source": [
    "movies_pd.head(2)"
   ]
  },
  {
   "cell_type": "code",
   "execution_count": 12,
   "metadata": {},
   "outputs": [],
   "source": [
    "popularity = movies_pd[['popularity']].sample(frac=0.25).values"
   ]
  },
  {
   "cell_type": "code",
   "execution_count": 14,
   "metadata": {},
   "outputs": [],
   "source": [
    "np.save('popularity.npy', popularity)"
   ]
  },
  {
   "cell_type": "markdown",
   "metadata": {},
   "source": [
    "##### 2. extract data\n",
    "Firstly, we merge movie data with credits data and drop columns which are not considered to be neccessary for graph construction. Result is shown below."
   ]
  },
  {
   "cell_type": "code",
   "execution_count": 5,
   "metadata": {
    "scrolled": false
   },
   "outputs": [
    {
     "data": {
      "text/html": [
       "<div>\n",
       "<style scoped>\n",
       "    .dataframe tbody tr th:only-of-type {\n",
       "        vertical-align: middle;\n",
       "    }\n",
       "\n",
       "    .dataframe tbody tr th {\n",
       "        vertical-align: top;\n",
       "    }\n",
       "\n",
       "    .dataframe thead th {\n",
       "        text-align: right;\n",
       "    }\n",
       "</style>\n",
       "<table border=\"1\" class=\"dataframe\">\n",
       "  <thead>\n",
       "    <tr style=\"text-align: right;\">\n",
       "      <th></th>\n",
       "      <th>genres</th>\n",
       "    </tr>\n",
       "  </thead>\n",
       "  <tbody>\n",
       "    <tr>\n",
       "      <th>0</th>\n",
       "      <td>[{\"id\": 28, \"name\": \"Action\"}, {\"id\": 12, \"nam...</td>\n",
       "    </tr>\n",
       "    <tr>\n",
       "      <th>1</th>\n",
       "      <td>[{\"id\": 12, \"name\": \"Adventure\"}, {\"id\": 14, \"...</td>\n",
       "    </tr>\n",
       "    <tr>\n",
       "      <th>2</th>\n",
       "      <td>[{\"id\": 28, \"name\": \"Action\"}, {\"id\": 12, \"nam...</td>\n",
       "    </tr>\n",
       "    <tr>\n",
       "      <th>3</th>\n",
       "      <td>[{\"id\": 28, \"name\": \"Action\"}, {\"id\": 80, \"nam...</td>\n",
       "    </tr>\n",
       "    <tr>\n",
       "      <th>4</th>\n",
       "      <td>[{\"id\": 28, \"name\": \"Action\"}, {\"id\": 12, \"nam...</td>\n",
       "    </tr>\n",
       "  </tbody>\n",
       "</table>\n",
       "</div>"
      ],
      "text/plain": [
       "                                              genres\n",
       "0  [{\"id\": 28, \"name\": \"Action\"}, {\"id\": 12, \"nam...\n",
       "1  [{\"id\": 12, \"name\": \"Adventure\"}, {\"id\": 14, \"...\n",
       "2  [{\"id\": 28, \"name\": \"Action\"}, {\"id\": 12, \"nam...\n",
       "3  [{\"id\": 28, \"name\": \"Action\"}, {\"id\": 80, \"nam...\n",
       "4  [{\"id\": 28, \"name\": \"Action\"}, {\"id\": 12, \"nam..."
      ]
     },
     "execution_count": 5,
     "metadata": {},
     "output_type": "execute_result"
    }
   ],
   "source": [
    "# merge two data sets and extract target features(columns)\n",
    "movies_credits_pd = movies_pd.merge(credits_pd, left_on = 'id', right_on='movie_id')\n",
    "movies_credits_extracted_pd = movies_credits_pd[['genres']].copy()\n",
    "# data clean: drop all rows contain nan\n",
    "movies_credits_extracted_pd.genres = movies_credits_extracted_pd.genres.apply(lambda x: x if len(x) > 0 else np.nan )\n",
    "movies_credits_extracted_pd.dropna(inplace=True)\n",
    "movies_credits_extracted_pd.head(5)"
   ]
  },
  {
   "cell_type": "code",
   "execution_count": 6,
   "metadata": {
    "scrolled": false
   },
   "outputs": [
    {
     "name": "stdout",
     "output_type": "stream",
     "text": [
      "The size of original data is 4803 \n",
      "\n",
      "After downsampling, the size of date is 1201 \n",
      "\n"
     ]
    },
    {
     "data": {
      "text/html": [
       "<div>\n",
       "<style scoped>\n",
       "    .dataframe tbody tr th:only-of-type {\n",
       "        vertical-align: middle;\n",
       "    }\n",
       "\n",
       "    .dataframe tbody tr th {\n",
       "        vertical-align: top;\n",
       "    }\n",
       "\n",
       "    .dataframe thead th {\n",
       "        text-align: right;\n",
       "    }\n",
       "</style>\n",
       "<table border=\"1\" class=\"dataframe\">\n",
       "  <thead>\n",
       "    <tr style=\"text-align: right;\">\n",
       "      <th></th>\n",
       "      <th>genres</th>\n",
       "    </tr>\n",
       "  </thead>\n",
       "  <tbody>\n",
       "    <tr>\n",
       "      <th>0</th>\n",
       "      <td>[{\"id\": 18, \"name\": \"Drama\"}, {\"id\": 35, \"name...</td>\n",
       "    </tr>\n",
       "    <tr>\n",
       "      <th>1</th>\n",
       "      <td>[{\"id\": 28, \"name\": \"Action\"}, {\"id\": 18, \"nam...</td>\n",
       "    </tr>\n",
       "    <tr>\n",
       "      <th>2</th>\n",
       "      <td>[{\"id\": 18, \"name\": \"Drama\"}]</td>\n",
       "    </tr>\n",
       "  </tbody>\n",
       "</table>\n",
       "</div>"
      ],
      "text/plain": [
       "                                              genres\n",
       "0  [{\"id\": 18, \"name\": \"Drama\"}, {\"id\": 35, \"name...\n",
       "1  [{\"id\": 28, \"name\": \"Action\"}, {\"id\": 18, \"nam...\n",
       "2                      [{\"id\": 18, \"name\": \"Drama\"}]"
      ]
     },
     "execution_count": 6,
     "metadata": {},
     "output_type": "execute_result"
    }
   ],
   "source": [
    "# data downsampling to reduce processing time\n",
    "print('The size of original data is', movies_credits_extracted_pd.shape[0], '\\n')\n",
    "movies_credits_extracted_pd = movies_credits_extracted_pd.sample(frac=0.25)\n",
    "print('After downsampling, the size of date is',movies_credits_extracted_pd.shape[0], '\\n')\n",
    "# reset index of sampled dataframe\n",
    "movies_credits_extracted_pd.reset_index(inplace=True, drop=True)\n",
    "movies_credits_extracted_pd.head(3)"
   ]
  },
  {
   "cell_type": "markdown",
   "metadata": {},
   "source": [
    "### B. Create the adjacency matrix of your network."
   ]
  },
  {
   "cell_type": "markdown",
   "metadata": {},
   "source": [
    "Remember that there are edges connecting the attributed nodes that you organized in the dataframe above. The connectivity of the network is captured by the adjacency matrix $W$. If $N$ is the number of nodes, the adjacency matrix is an $N \\times N$ matrix where the value of $W(i,j)$ is the weight of the edge connecting node $i$ to node $j$.  \n",
    "\n",
    "There are two possible scenarios for your adjacency matrix construction, as you already learned in the tutorial by Benjamin:\n",
    "\n",
    "1) The edges are given to you explicitly. In this case you should simply load the file containing the edge information and parse it in order to create your adjacency matrix. See how to do that in [this tutorial](../tutorials/02a_graph_from_edge_list.ipynb).\n",
    "\n",
    "2) The edges are not given to you. In that case you will have to create a **feature graph**. In order to do that you will have to chose a distance that will quantify how similar two nodes are based on the values in their corresponding feature vectors. [This tutorial](../tutorials/02b_graph_from_features.ipynb) shows you how to build feature graphs when using Euclidean distances between feature vectors. Be curious and **explore other distances** as well! For instance, in the case of high-dimensional feature vectors, you might want to consider using the cosine distance. Once you compute the distances between your nodes you will have a fully connected network. Do not forget to **sparsify** by keeping the most important edges in your network.\n",
    "\n",
    "Follow the appropriate steps for the construction of the adjacency matrix of your network and provide it in the Numpy array ``adjacency`` below: "
   ]
  },
  {
   "cell_type": "markdown",
   "metadata": {},
   "source": [
    "##### 1. data rephrase"
   ]
  },
  {
   "cell_type": "markdown",
   "metadata": {},
   "source": [
    "We only use movie **genres** as our feature to compute adjecent matrix"
   ]
  },
  {
   "cell_type": "code",
   "execution_count": 7,
   "metadata": {
    "scrolled": true
   },
   "outputs": [
    {
     "data": {
      "text/html": [
       "<div>\n",
       "<style scoped>\n",
       "    .dataframe tbody tr th:only-of-type {\n",
       "        vertical-align: middle;\n",
       "    }\n",
       "\n",
       "    .dataframe tbody tr th {\n",
       "        vertical-align: top;\n",
       "    }\n",
       "\n",
       "    .dataframe thead th {\n",
       "        text-align: right;\n",
       "    }\n",
       "</style>\n",
       "<table border=\"1\" class=\"dataframe\">\n",
       "  <thead>\n",
       "    <tr style=\"text-align: right;\">\n",
       "      <th></th>\n",
       "      <th>Action</th>\n",
       "      <th>Adventure</th>\n",
       "      <th>Animation</th>\n",
       "      <th>Biography</th>\n",
       "      <th>Comedy</th>\n",
       "      <th>Crime</th>\n",
       "      <th>Documentary</th>\n",
       "      <th>Drama</th>\n",
       "      <th>Family</th>\n",
       "      <th>Fantasy</th>\n",
       "      <th>...</th>\n",
       "      <th>Musical</th>\n",
       "      <th>Mystery</th>\n",
       "      <th>News</th>\n",
       "      <th>Romance</th>\n",
       "      <th>Sci-Fi</th>\n",
       "      <th>Short</th>\n",
       "      <th>Sport</th>\n",
       "      <th>Thriller</th>\n",
       "      <th>War</th>\n",
       "      <th>Western</th>\n",
       "    </tr>\n",
       "  </thead>\n",
       "  <tbody>\n",
       "    <tr>\n",
       "      <th>0</th>\n",
       "      <td>0.0</td>\n",
       "      <td>0.0</td>\n",
       "      <td>0.0</td>\n",
       "      <td>0.0</td>\n",
       "      <td>1.0</td>\n",
       "      <td>0.0</td>\n",
       "      <td>0.0</td>\n",
       "      <td>1.0</td>\n",
       "      <td>0.0</td>\n",
       "      <td>0.0</td>\n",
       "      <td>...</td>\n",
       "      <td>0.0</td>\n",
       "      <td>0.0</td>\n",
       "      <td>0.0</td>\n",
       "      <td>0.0</td>\n",
       "      <td>0.0</td>\n",
       "      <td>0.0</td>\n",
       "      <td>0.0</td>\n",
       "      <td>0.0</td>\n",
       "      <td>0.0</td>\n",
       "      <td>0.0</td>\n",
       "    </tr>\n",
       "    <tr>\n",
       "      <th>1</th>\n",
       "      <td>1.0</td>\n",
       "      <td>0.0</td>\n",
       "      <td>0.0</td>\n",
       "      <td>0.0</td>\n",
       "      <td>0.0</td>\n",
       "      <td>0.0</td>\n",
       "      <td>0.0</td>\n",
       "      <td>1.0</td>\n",
       "      <td>0.0</td>\n",
       "      <td>0.0</td>\n",
       "      <td>...</td>\n",
       "      <td>0.0</td>\n",
       "      <td>0.0</td>\n",
       "      <td>0.0</td>\n",
       "      <td>1.0</td>\n",
       "      <td>0.0</td>\n",
       "      <td>0.0</td>\n",
       "      <td>0.0</td>\n",
       "      <td>0.0</td>\n",
       "      <td>0.0</td>\n",
       "      <td>0.0</td>\n",
       "    </tr>\n",
       "  </tbody>\n",
       "</table>\n",
       "<p>2 rows × 23 columns</p>\n",
       "</div>"
      ],
      "text/plain": [
       "   Action  Adventure  Animation  Biography  Comedy  Crime  Documentary  Drama  \\\n",
       "0     0.0        0.0        0.0        0.0     1.0    0.0          0.0    1.0   \n",
       "1     1.0        0.0        0.0        0.0     0.0    0.0          0.0    1.0   \n",
       "\n",
       "   Family  Fantasy   ...     Musical  Mystery  News  Romance  Sci-Fi  Short  \\\n",
       "0     0.0      0.0   ...         0.0      0.0   0.0      0.0     0.0    0.0   \n",
       "1     0.0      0.0   ...         0.0      0.0   0.0      1.0     0.0    0.0   \n",
       "\n",
       "   Sport  Thriller  War  Western  \n",
       "0    0.0       0.0  0.0      0.0  \n",
       "1    0.0       0.0  0.0      0.0  \n",
       "\n",
       "[2 rows x 23 columns]"
      ]
     },
     "execution_count": 7,
     "metadata": {},
     "output_type": "execute_result"
    }
   ],
   "source": [
    "# define genres that are considered as features\n",
    "movies_credits_extracted_pd.genres = movies_credits_extracted_pd.genres.apply(json.loads) # use json to turn string to dict\n",
    "interest_genre = [\"Action\",\"Adventure\",\"Animation\", \"Biography\",\"Comedy\",\"Crime\",\"Documentary\",\"Drama\",\n",
    "            \"Family\",\"Fantasy\",\"Film-Noir\",\"History\",\"Horror\",\"Musical\",\"Mystery\",\"News\",\"Romance\",\n",
    "            \"Sci-Fi\",\"Short\",\"Sport\",\"Thriller\",\"War\",\"Western\"]\n",
    "genre_vec_len = len(interest_genre)\n",
    "\n",
    "# generate feature vectors from 'genres' in the dataframe\n",
    "# set 1 in corresponding position if the movie has the features \n",
    "def extr_genre(kaggle_genre, genre_vec_len):\n",
    "    genre_vec = np.zeros(genre_vec_len)\n",
    "    for ct_i in kaggle_genre:\n",
    "        genre = ct_i['name']\n",
    "        indices = [i for i, s in enumerate(interest_genre) if genre in s] # generate 0/1\n",
    "        genre_vec[indices] = 1\n",
    "    return genre_vec\n",
    "\n",
    "# show feature vector\n",
    "movies_credits_featurized_Sris = movies_credits_extracted_pd.genres.apply(lambda x : extr_genre(x, genre_vec_len))\n",
    "aim_genre = np.array(movies_credits_featurized_Sris[0]).reshape([1,-1])\n",
    "for i in range(1, movies_credits_featurized_Sris.shape[0]):\n",
    "    aim_genre = np.concatenate([aim_genre, np.array(movies_credits_featurized_Sris[i]).reshape([1,-1])], axis=0)\n",
    "features = pd.DataFrame(aim_genre) # turn it into dataframe\n",
    "features.columns = interest_genre\n",
    "features.head(2)"
   ]
  },
  {
   "cell_type": "markdown",
   "metadata": {},
   "source": [
    "#####  2. generate the distance matrix"
   ]
  },
  {
   "cell_type": "markdown",
   "metadata": {},
   "source": [
    "1. Euclidean distances:\n",
    "$$d(u,v) = \\|u - v\\|_p,$$"
   ]
  },
  {
   "cell_type": "code",
   "execution_count": 8,
   "metadata": {},
   "outputs": [
    {
     "data": {
      "text/plain": [
       "array([[0.        , 1.73205081, 1.        , 1.41421356, 1.        ],\n",
       "       [1.73205081, 0.        , 1.41421356, 1.73205081, 1.41421356],\n",
       "       [1.        , 1.41421356, 0.        , 1.        , 0.        ],\n",
       "       [1.41421356, 1.73205081, 1.        , 0.        , 1.        ],\n",
       "       [1.        , 1.41421356, 0.        , 1.        , 0.        ]])"
      ]
     },
     "execution_count": 8,
     "metadata": {},
     "output_type": "execute_result"
    }
   ],
   "source": [
    "def cal_euclidean_dist(features):\n",
    "    dist_euclidean = np.empty([features.shape[0],features.shape[0]])\n",
    "    for i in range(features.shape[0]):\n",
    "        for j in range(features.shape[0]):\n",
    "            dist_euclidean[i, j] = np.linalg.norm(features.iloc[i].values - features.iloc[j].values, ord=2)\n",
    "    return dist_euclidean\n",
    "\n",
    "cal_euclidean_dist(features[:5])"
   ]
  },
  {
   "cell_type": "markdown",
   "metadata": {},
   "source": [
    "2. Other distance\n",
    "We observe that the cosine similarity between vector '1 0 1 1' and '1 0 1 1' is the same as the similarity between '1 0 0 0' and '1 0 0 0', while the former one should have higher similarity since they have more '1' in common. So, we believe cosine similarity is not an appropriate method to compute distance for our graph. Therefore, we modified cosine distance as below:\n",
    "$$distance(u,v) = 1 - \\frac{u \\cdot v} {k},$$\n",
    "where k is the maximum norm among all feature vectors."
   ]
  },
  {
   "cell_type": "code",
   "execution_count": 9,
   "metadata": {},
   "outputs": [],
   "source": [
    "# compute distance matrix\n",
    "genre_feature_array = np.array(movies_credits_featurized_Sris.tolist())\n",
    "dot_mat = genre_feature_array @genre_feature_array.T\n",
    "\n",
    "norm_dist = (genre_feature_array.T * genre_feature_array.T).sum(0, keepdims=True) ** .5\n",
    "genre_dist_mat = 1 - dot_mat / (norm_dist.max())"
   ]
  },
  {
   "cell_type": "code",
   "execution_count": 10,
   "metadata": {},
   "outputs": [
    {
     "data": {
      "text/plain": [
       "array([[ 0.24407105,  0.62203553,  0.62203553,  0.62203553,  0.62203553],\n",
       "       [ 0.62203553, -0.13389342,  0.62203553,  0.62203553,  0.62203553],\n",
       "       [ 0.62203553,  0.62203553,  0.62203553,  0.62203553,  0.62203553],\n",
       "       [ 0.62203553,  0.62203553,  0.62203553,  0.24407105,  0.62203553],\n",
       "       [ 0.62203553,  0.62203553,  0.62203553,  0.62203553,  0.62203553]])"
      ]
     },
     "execution_count": 10,
     "metadata": {},
     "output_type": "execute_result"
    }
   ],
   "source": [
    "genre_dist_mat[:5, :5]"
   ]
  },
  {
   "cell_type": "markdown",
   "metadata": {},
   "source": [
    "##### 3. compute weights"
   ]
  },
  {
   "cell_type": "code",
   "execution_count": 11,
   "metadata": {},
   "outputs": [
    {
     "data": {
      "text/plain": [
       "array([[0.90179938, 0.51100655, 0.51100655, 0.51100655, 0.51100655],\n",
       "       [0.51100655, 0.96937228, 0.51100655, 0.51100655, 0.51100655],\n",
       "       [0.51100655, 0.51100655, 0.51100655, 0.51100655, 0.51100655],\n",
       "       [0.51100655, 0.51100655, 0.51100655, 0.90179938, 0.51100655],\n",
       "       [0.51100655, 0.51100655, 0.51100655, 0.51100655, 0.51100655]])"
      ]
     },
     "execution_count": 11,
     "metadata": {},
     "output_type": "execute_result"
    }
   ],
   "source": [
    "# use the Gaussian function\n",
    "kernel_width = genre_dist_mat.mean()\n",
    "weights = np.exp(-genre_dist_mat**2 / kernel_width**2)\n",
    "weights[:5,:5]"
   ]
  },
  {
   "cell_type": "code",
   "execution_count": 12,
   "metadata": {
    "scrolled": true
   },
   "outputs": [
    {
     "data": {
      "text/plain": [
       "array([[0.        , 0.51100655, 0.51100655, 0.51100655, 0.51100655],\n",
       "       [0.51100655, 0.        , 0.51100655, 0.51100655, 0.51100655],\n",
       "       [0.51100655, 0.51100655, 0.        , 0.51100655, 0.51100655],\n",
       "       [0.51100655, 0.51100655, 0.51100655, 0.        , 0.51100655],\n",
       "       [0.51100655, 0.51100655, 0.51100655, 0.51100655, 0.        ]])"
      ]
     },
     "execution_count": 12,
     "metadata": {},
     "output_type": "execute_result"
    }
   ],
   "source": [
    "# zero out diagonal entries\n",
    "adjacency = weights\n",
    "tmp1 = np.diag(adjacency)        \n",
    "tmp2 = np.diag(tmp1)             \n",
    "adjacency = adjacency - tmp2    \n",
    "adjacency[:5,:5]"
   ]
  },
  {
   "cell_type": "markdown",
   "metadata": {},
   "source": [
    "## Part 2"
   ]
  },
  {
   "cell_type": "markdown",
   "metadata": {},
   "source": [
    "Execute the cell below to plot the (weighted) adjacency matrix of your network."
   ]
  },
  {
   "cell_type": "code",
   "execution_count": 13,
   "metadata": {},
   "outputs": [
    {
     "data": {
      "text/plain": [
       "Text(0.5,1.05,'adjacency matrix')"
      ]
     },
     "execution_count": 13,
     "metadata": {},
     "output_type": "execute_result"
    },
    {
     "data": {
      "image/png": "[encoded data removed]",
      "text/plain": [
       "<Figure size 432x288 with 1 Axes>"
      ]
     },
     "metadata": {},
     "output_type": "display_data"
    }
   ],
   "source": [
    "Threshold = 0.5 # take a threshold to make the plot clear and intuitive\n",
    "plt.spy(adjacency, precision = Threshold, markersize=0.005)\n",
    "plt.title('adjacency matrix')"
   ]
  },
  {
   "cell_type": "markdown",
   "metadata": {},
   "source": [
    "### Question 1\n",
    "\n",
    "What is the maximum number of links $L_{max}$ in a network with $N$ nodes (where $N$ is the number of nodes in your network)? How many links $L$ are there in your collected network? Comment on the sparsity of your network."
   ]
  },
  {
   "cell_type": "code",
   "execution_count": 14,
   "metadata": {},
   "outputs": [
    {
     "name": "stdout",
     "output_type": "stream",
     "text": [
      "1. The number of nodes in our network is 1201 and the maximum number of links in our network is  720600 links.\n",
      "2. When threshold is 0.5 there are 365250.0 edges in our network.\n",
      "3. Sparsity of our network is 0.51.\n"
     ]
    }
   ],
   "source": [
    "# calculate Lmax\n",
    "N = adjacency.shape[0]\n",
    "full_connect = int(N*(N-1)/2)\n",
    "print('1. The number of nodes in our network is', N, 'and the maximum number of links in our network is ', full_connect, 'links.')\n",
    "# calculate L: only sum the edges with a weight larger than threshold\n",
    "Threshold = 0.5\n",
    "print('2. When threshold is',Threshold, 'there are', sum(sum(adjacency > Threshold))/2, 'edges in our network.')\n",
    "print('3. Sparsity of our network is {:.2f}.'.format(sum(sum(adjacency > Threshold))/2/full_connect))"
   ]
  },
  {
   "cell_type": "markdown",
   "metadata": {},
   "source": [
    "**Answer:**\n",
    "1. The number of nodes in our graph is 1201 and the maximum number of links in our graph is  720600 links.\n",
    "2. Our graph is a weighted graph, so the number of edges and sparsity depend on the threshold which decides whether two nodes are connected."
   ]
  },
  {
   "cell_type": "markdown",
   "metadata": {},
   "source": [
    "### Question 2\n",
    "\n",
    "Is your graph directed or undirected? If it is directed, convert it to an undirected graph by symmetrizing the adjacency matrix."
   ]
  },
  {
   "cell_type": "markdown",
   "metadata": {},
   "source": [
    "**Answer: **\n",
    "1. Our graph is undirected graph."
   ]
  },
  {
   "cell_type": "markdown",
   "metadata": {},
   "source": [
    "### Question 3\n",
    "\n",
    "In the cell below save the features dataframe and the **symmetrized** adjacency matrix. You can use the Pandas ``to_csv`` to save the ``features`` and Numpy's ``save`` to save the ``adjacency``. We will reuse those in the following milestones."
   ]
  },
  {
   "cell_type": "code",
   "execution_count": 15,
   "metadata": {},
   "outputs": [],
   "source": [
    "movies_credits_extracted_pd.genres.to_csv('genre.csv')\n",
    "np.save('adjacency',adjacency)"
   ]
  },
  {
   "cell_type": "markdown",
   "metadata": {},
   "source": [
    "### Question 4\n",
    "\n",
    "Are the edges of your graph weighted?"
   ]
  },
  {
   "cell_type": "markdown",
   "metadata": {},
   "source": [
    "**Answer: **\n",
    "1. Yes. our graph is weighted."
   ]
  },
  {
   "cell_type": "markdown",
   "metadata": {},
   "source": [
    "### Question 5\n",
    "\n",
    "What is the degree distibution of your network? "
   ]
  },
  {
   "cell_type": "code",
   "execution_count": 16,
   "metadata": {},
   "outputs": [
    {
     "name": "stdout",
     "output_type": "stream",
     "text": [
      "The degree distibution of our network describled by a form:\n"
     ]
    },
    {
     "data": {
      "text/html": [
       "<div>\n",
       "<style scoped>\n",
       "    .dataframe tbody tr th:only-of-type {\n",
       "        vertical-align: middle;\n",
       "    }\n",
       "\n",
       "    .dataframe tbody tr th {\n",
       "        vertical-align: top;\n",
       "    }\n",
       "\n",
       "    .dataframe thead th {\n",
       "        text-align: right;\n",
       "    }\n",
       "</style>\n",
       "<table border=\"1\" class=\"dataframe\">\n",
       "  <thead>\n",
       "    <tr style=\"text-align: right;\">\n",
       "      <th></th>\n",
       "      <th>0</th>\n",
       "      <th>1</th>\n",
       "      <th>2</th>\n",
       "      <th>3</th>\n",
       "      <th>4</th>\n",
       "      <th>5</th>\n",
       "      <th>6</th>\n",
       "      <th>7</th>\n",
       "      <th>8</th>\n",
       "      <th>9</th>\n",
       "      <th>...</th>\n",
       "      <th>1191</th>\n",
       "      <th>1192</th>\n",
       "      <th>1193</th>\n",
       "      <th>1194</th>\n",
       "      <th>1195</th>\n",
       "      <th>1196</th>\n",
       "      <th>1197</th>\n",
       "      <th>1198</th>\n",
       "      <th>1199</th>\n",
       "      <th>1200</th>\n",
       "    </tr>\n",
       "  </thead>\n",
       "  <tbody>\n",
       "    <tr>\n",
       "      <th>degree</th>\n",
       "      <td>882</td>\n",
       "      <td>852</td>\n",
       "      <td>609</td>\n",
       "      <td>614</td>\n",
       "      <td>609</td>\n",
       "      <td>762</td>\n",
       "      <td>700</td>\n",
       "      <td>558</td>\n",
       "      <td>125</td>\n",
       "      <td>467</td>\n",
       "      <td>...</td>\n",
       "      <td>895</td>\n",
       "      <td>614</td>\n",
       "      <td>530</td>\n",
       "      <td>641</td>\n",
       "      <td>398</td>\n",
       "      <td>152</td>\n",
       "      <td>677</td>\n",
       "      <td>605</td>\n",
       "      <td>835</td>\n",
       "      <td>706</td>\n",
       "    </tr>\n",
       "  </tbody>\n",
       "</table>\n",
       "<p>1 rows × 1201 columns</p>\n",
       "</div>"
      ],
      "text/plain": [
       "        0     1     2     3     4     5     6     7     8     9     ...   \\\n",
       "degree   882   852   609   614   609   762   700   558   125   467  ...    \n",
       "\n",
       "        1191  1192  1193  1194  1195  1196  1197  1198  1199  1200  \n",
       "degree   895   614   530   641   398   152   677   605   835   706  \n",
       "\n",
       "[1 rows x 1201 columns]"
      ]
     },
     "execution_count": 16,
     "metadata": {},
     "output_type": "execute_result"
    }
   ],
   "source": [
    "Threshold = 0.5 # set threshold\n",
    "n_nodes = len(adjacency)\n",
    "degree = np.sum(adjacency > Threshold, axis = 1)\n",
    "# show degree distibution\n",
    "print('The degree distibution of our network describled by a form:')\n",
    "degree_distribution = pd.DataFrame(degree).T\n",
    "degree_distribution.index = ['degree']\n",
    "degree_distribution"
   ]
  },
  {
   "cell_type": "markdown",
   "metadata": {},
   "source": [
    "From the figure above, we observe that the number of nodes with low degree is about 4 times greater than the number of nodes with over 1000 degree. This is similar to the degree distribution of random network. Therefore, we draw a log-log figure below."
   ]
  },
  {
   "cell_type": "code",
   "execution_count": 17,
   "metadata": {
    "scrolled": true
   },
   "outputs": [
    {
     "name": "stdout",
     "output_type": "stream",
     "text": [
      "The degree distibution of our network describled by a histogram:\n"
     ]
    },
    {
     "data": {
      "image/png": "[encoded data removed]",
      "text/plain": [
       "<Figure size 1440x360 with 2 Axes>"
      ]
     },
     "metadata": {},
     "output_type": "display_data"
    }
   ],
   "source": [
    "# the degree distibution of our network describled by a histogram:\n",
    "weights = np.ones_like(degree) / float(n_nodes)\n",
    "# show degree distibution\n",
    "print('The degree distibution of our network describled by a histogram:')\n",
    "plt.figure(figsize =(20,5))\n",
    "plt.subplot(121)\n",
    "plt.hist(degree, weights=weights, bins=50)\n",
    "plt.title(\"degree distribution\")\n",
    "plt.xlabel(\"k\")\n",
    "plt.ylabel(\"pk\")\n",
    "\n",
    "# plot log-log figure to see the degree distibution:\n",
    "plt.subplot(122)\n",
    "plt.hist(degree[degree>0], weights=weights[degree>0], bins = 100);\n",
    "plt.title(\"log-log degree distribution\")\n",
    "plt.xlabel(\"k\")\n",
    "plt.ylabel(\"pk\")\n",
    "plt.xscale('log')\n",
    "plt.yscale('log')\n",
    "plt.show()"
   ]
  },
  {
   "cell_type": "markdown",
   "metadata": {},
   "source": [
    "What is the average degree?"
   ]
  },
  {
   "cell_type": "code",
   "execution_count": 18,
   "metadata": {},
   "outputs": [
    {
     "name": "stdout",
     "output_type": "stream",
     "text": [
      "When we set threshold to 0.5 the average degree is:608.24\n"
     ]
    }
   ],
   "source": [
    "print('When we set threshold to', Threshold, 'the average degree is:{:.2f}'.format(np.mean(degree)))"
   ]
  },
  {
   "cell_type": "markdown",
   "metadata": {},
   "source": [
    "### Question 6\n",
    "\n",
    "Comment on the degree distribution of your network."
   ]
  },
  {
   "cell_type": "markdown",
   "metadata": {},
   "source": [
    "**Answer: **\n",
    "1. The degrees of most nodes are accumulated between 400 and 900.\n",
    "2. 15% of nodes in our network have a degree around 600 and 10% of nodes have a degree around 900. \n",
    "3. Only a few of nodes whose degree are over 1000 and less than 100. \n",
    "4. The degree distribution of our network is similar to a Gaussian distribution."
   ]
  },
  {
   "cell_type": "markdown",
   "metadata": {},
   "source": [
    "### Question 7\n",
    "\n",
    "Write a function that takes as input the adjacency matrix of a graph and determines whether the graph is connected or not."
   ]
  },
  {
   "cell_type": "code",
   "execution_count": 19,
   "metadata": {},
   "outputs": [],
   "source": [
    "def connected_graph(adjacency):\n",
    "    \"\"\"Determines whether a graph is connected.\n",
    "    \n",
    "    Parameters\n",
    "    ----------\n",
    "    adjacency: numpy array\n",
    "        The (weighted) adjacency matrix of a graph.\n",
    "    \n",
    "    Returns\n",
    "    -------\n",
    "    bool\n",
    "        True if the graph is connected, False otherwise.\n",
    "    \"\"\"\n",
    "    bfs_group = []                             # store the connected components of a graph\n",
    "    picked_mark = np.ones(adjacency.shape[0])  # a mark to indicate the picked nodes\n",
    "    while (picked_mark == 1).any():            # any point not picked\n",
    "        node = np.random.choice(np.arange(adjacency.shape[0])[picked_mark == 1], 1) # randomly choose one unpicked point\n",
    "        bfs_queue, picked_mark = bfs_algrithom(adjacency, picked_mark, node)        # bfs_queue at least has one point\n",
    "        bfs_group.append(bfs_queue)\n",
    "    if len(bfs_group) == 1:\n",
    "        connected_flag = True\n",
    "        return connected_flag, bfs_group \n",
    "    else:\n",
    "        connected_flag = False\n",
    "        return connected_flag, bfs_group\n",
    "    \n",
    "def bfs_algrithom(adjacency, picked_mark, node = 0):\n",
    "    node_list = np.arange(adjacency.shape[0])  \n",
    "    bfs_queue = [np.array(node)]               # a queue with source node already in side\n",
    "    picked_mark[node] = 0                      # node is picked\n",
    "\n",
    "    for bfs_queue_component in bfs_queue:\n",
    "        bfs_queue_buffer = np.array([], dtype = 'int64') # Empty matrix\n",
    "        for node_index in bfs_queue_component:           # Try to find all nodes linked with members in bfs_queue_component\n",
    "            bool_vector = (adjacency[node_index] != 0)\n",
    "            temp = node_list[bool_vector]                     # Pick the nodes linked with node_index\n",
    "            pick_now = temp[picked_mark[bool_vector] == 1]    # Delete nodes that already picked\n",
    "            if pick_now.shape[0] != 0:                        # Cheak whether there are new points\n",
    "                picked_mark[pick_now] = 0\n",
    "                bfs_queue_buffer = np.concatenate([bfs_queue_buffer,pick_now], axis = 0)\n",
    "        if bfs_queue_buffer.shape[0] != 0:\n",
    "            bfs_queue.append(bfs_queue_buffer)\n",
    "        else:\n",
    "            break\n",
    "    return bfs_queue, picked_mark"
   ]
  },
  {
   "cell_type": "markdown",
   "metadata": {},
   "source": [
    "Is your graph connected? Run the ``connected_graph`` function to determine your answer."
   ]
  },
  {
   "cell_type": "code",
   "execution_count": 20,
   "metadata": {},
   "outputs": [],
   "source": [
    "Threshold = 0.5 # set threshold\n",
    "adjacency_thres = adjacency.copy()\n",
    "adjacency_thres[adjacency_thres < Threshold] = 0"
   ]
  },
  {
   "cell_type": "code",
   "execution_count": 21,
   "metadata": {
    "scrolled": false
   },
   "outputs": [
    {
     "name": "stdout",
     "output_type": "stream",
     "text": [
      "When we set threshold to 0.5 , the statement that our graph is connected is False\n"
     ]
    }
   ],
   "source": [
    "connected_flag, bfs_group = connected_graph(adjacency_thres)\n",
    "print('When we set threshold to', Threshold, ', the statement that our graph is connected is', connected_flag)"
   ]
  },
  {
   "cell_type": "markdown",
   "metadata": {},
   "source": [
    "**Answer:**\n",
    "1. After downsampling, When we set threshold to 0.5, our network is not connected.\n",
    "2. The result depende on how the downsampling is conducted and the threshold we set."
   ]
  },
  {
   "cell_type": "markdown",
   "metadata": {},
   "source": [
    "### Question 8\n",
    "\n",
    "Write a function that extracts the connected components of a graph."
   ]
  },
  {
   "cell_type": "code",
   "execution_count": 22,
   "metadata": {},
   "outputs": [],
   "source": [
    "def find_components(adjacency):\n",
    "    \"\"\"Find the connected components of a graph.\n",
    "    \n",
    "    Parameters\n",
    "    ----------\n",
    "    adjacency: numpy array\n",
    "        The (weighted) adjacency matrix of a graph.\n",
    "    \n",
    "    Returns\n",
    "    -------\n",
    "    list of numpy arrays\n",
    "        A list of adjacency matrices, one per connected component.\n",
    "    \"\"\"\n",
    "    _, bfs_group = connected_graph(adjacency)        # get the connected components of a graph\n",
    "    component_size = []                              # store the size of each component\n",
    "    adjacency_list = []\n",
    "    for bfs_queue in bfs_group:\n",
    "        temp = adjacency.copy()\n",
    "        node_picked = np.array([],dtype='int64')\n",
    "        picked_mark = np.zeros(adjacency.shape[0])   # a mark to indicate whether the node is picked or not\n",
    "        for bfs_queue_component in bfs_queue:\n",
    "            node_picked = np.concatenate([node_picked, bfs_queue_component])\n",
    "        for i in node_picked:\n",
    "            picked_mark[i] = 1\n",
    "        temp[picked_mark == 0,:] = 0\n",
    "        temp[:,picked_mark == 0] = 0\n",
    "        adjacency_list.append(temp)\n",
    "        component_size.append(len(node_picked))\n",
    "    return adjacency_list, component_size"
   ]
  },
  {
   "cell_type": "markdown",
   "metadata": {},
   "source": [
    "How many connected components is your network composed of? What is the size of the largest connected component? Run the ``find_components`` function to determine your answer. "
   ]
  },
  {
   "cell_type": "code",
   "execution_count": 23,
   "metadata": {
    "scrolled": true
   },
   "outputs": [
    {
     "name": "stdout",
     "output_type": "stream",
     "text": [
      "When we set threshold to 0.5 , the number of connected components in our graph is 13 and their size is/are [1189, 1, 1, 1, 1, 1, 1, 1, 1, 1, 1, 1, 1] .\n",
      "The size of the largest connected component is 1189.\n"
     ]
    }
   ],
   "source": [
    "adjacency_list, component_size = find_components(adjacency_thres)\n",
    "component_num = len(adjacency_list)\n",
    "print('When we set threshold to',Threshold, ', the number of connected components in our graph is', component_num, \n",
    "      'and their size is/are',component_size,'.')\n",
    "print('The size of the largest connected component is {}.'.format(max(component_size)))"
   ]
  },
  {
   "cell_type": "markdown",
   "metadata": {},
   "source": [
    "# **Answer: **\n",
    "1. After downsampling, When we set threshold to 0.5 , the number of connected components in our graph is 13 and their size is 1189.\n",
    "2. The result depende on how the downsampling is conducted and the threshold we set."
   ]
  },
  {
   "cell_type": "markdown",
   "metadata": {},
   "source": [
    "### Question 9\n",
    "\n",
    "Write a function that takes as input the adjacency matrix and a node (`source`) and returns the length of the shortest path between that node and all nodes in the graph using Dijkstra's algorithm. **For the purposes of this assignment we are interested in the hop distance between nodes, not in the sum of weights. **\n",
    "\n",
    "Hint: You might want to mask the adjacency matrix in the function ``compute_shortest_path_lengths`` in order to make sure you obtain a binary adjacency matrix. "
   ]
  },
  {
   "cell_type": "code",
   "execution_count": 24,
   "metadata": {},
   "outputs": [],
   "source": [
    "def compute_shortest_path_lengths(adjacency, source):\n",
    "    \"\"\"Compute the shortest path length between a source node and all nodes.\n",
    "    \n",
    "    Parameters\n",
    "    ----------\n",
    "    adjacency: numpy array\n",
    "        The (weighted) adjacency matrix of a graph.\n",
    "    source: int\n",
    "        The source node. A number between 0 and n_nodes-1.\n",
    "    \n",
    "    Returns\n",
    "    -------\n",
    "    list of ints\n",
    "        The length of the shortest path from source to all nodes. Returned list should be of length n_nodes.\n",
    "    \"\"\"\n",
    "    # the main structure is the same as question 7, but has a few modifications\n",
    "    length = adjacency.shape[0]\n",
    "    shortest_path_lengths = -1 * np.ones(length)    # like the BFS_vec in question 7, here we store the path length rather than connected nodes\n",
    "                                                    # -1 means not connected\n",
    "    shortest_path_lengths[source] = 0;  # source node, path length is 0\n",
    "    \n",
    "    team = np.array( np.where(adjacency[source,:] > 0)[0] )  # same as question 7, initalizing the queue with nodes connected to the source node\n",
    "    team_dist = np.ones(len(team))      # storing path lenth of the node in the 'team' . For example:\n",
    "                                        # team = [2 3 5 4 2], team_dist = [1 1 2 2 3], means path length from source to node 2,3 is 1, to nodes 5,4 is 2, etc.\n",
    "    \n",
    "    shortest_path_lengths[team] = 1     # path length of all nodes connnected to the source node is 1 \n",
    "    \n",
    "    ct_i = 0\n",
    "    while np.sum(team) != 0:\n",
    "        \n",
    "        if ct_i <= len(team):   \n",
    "            \n",
    "            # find newly connected nodes\n",
    "            new_index = np.setdiff1d( np.where(adjacency[team[ct_i], :] > 0)[0], np.where(shortest_path_lengths > -1)[0] )\n",
    "            \n",
    "            if new_index.size != 0:                                              # if we do find new nodes\n",
    "                # since new nodes connectted to the node in team[ct_i], path length of these new nodes should be path length of team[ct_i] + 1\n",
    "                # so, here below is team_dist[ct_i] + 1 \n",
    "                shortest_path_lengths[new_index] = team_dist[ct_i] + 1           \n",
    "                team = np.append( team, new_index )                              # append these new node to vecter 'team' \n",
    "                team_dist = np.append( team_dist, np.ones(len(new_index))*(team_dist[ct_i] + 1) )    # record path length of these new nodes which are added to the 'team'\n",
    "                \n",
    "            team[ct_i] = 0\n",
    "            \n",
    "            ct_i += 1\n",
    "    \n",
    "    return shortest_path_lengths"
   ]
  },
  {
   "cell_type": "code",
   "execution_count": 25,
   "metadata": {},
   "outputs": [],
   "source": [
    "Threshold = 0.5\n",
    "adjacency_thres = np.where(adjacency <= Threshold, 0, 1)\n",
    "distance = compute_shortest_path_lengths(adjacency_thres, 0)"
   ]
  },
  {
   "cell_type": "code",
   "execution_count": 26,
   "metadata": {},
   "outputs": [
    {
     "name": "stdout",
     "output_type": "stream",
     "text": [
      "When we set threshold to 0.5 ,the length of the shortest path between source node and all the other nodes is 2.0\n"
     ]
    }
   ],
   "source": [
    "print('When we set threshold to',Threshold, ',the length of the shortest path between source node and all the other nodes is', distance.max())"
   ]
  },
  {
   "cell_type": "markdown",
   "metadata": {},
   "source": [
    "**Answer: **\n",
    "1. After after downsampling, when we let threshold equal to 0.5, the shortest path of the dominant component is 2.\n",
    "2. The result depende on how the downsampling is conducted and the threshold we set."
   ]
  },
  {
   "cell_type": "markdown",
   "metadata": {},
   "source": [
    "### Question 10\n",
    "\n",
    "The diameter of the graph is the length of the longest shortest path between any pair of nodes. Use the above developed function to compute the diameter of the graph (or the diameter of the largest connected component of the graph if the graph is not connected). If your graph (or largest connected component) is very large, computing the diameter will take very long. In that case downsample your graph so that it has 1.000 nodes. There are many ways to reduce the size of a graph. For the purposes of this milestone you can chose to randomly select 1.000 nodes. "
   ]
  },
  {
   "cell_type": "code",
   "execution_count": 27,
   "metadata": {},
   "outputs": [],
   "source": [
    "# adjacency_thres：Threshold = 0.5\n",
    "# our down sampled graph has 1201 nodes\n",
    "components, component_size = find_components(adjacency_thres)\n",
    "largest_component = components[component_size.index(max(component_size))]\n",
    "\n",
    "diameter = 0\n",
    "counter = 0\n",
    "# search the longest shortest path for all nodes, this is really time comsuming\n",
    "for node_i in range(largest_component.shape[0]):\n",
    "    all_path_lengths = compute_shortest_path_lengths(largest_component,node_i)\n",
    "    diameter = diameter if diameter >= all_path_lengths.max() else all_path_lengths.max()"
   ]
  },
  {
   "cell_type": "code",
   "execution_count": 28,
   "metadata": {},
   "outputs": [
    {
     "name": "stdout",
     "output_type": "stream",
     "text": [
      "When we set threshold to 0.5 , the diameter of our graph is: 2.0\n"
     ]
    }
   ],
   "source": [
    "print('When we set threshold to',Threshold, ', the diameter of our graph is:',all_path_lengths.max())"
   ]
  },
  {
   "cell_type": "markdown",
   "metadata": {},
   "source": [
    "**Answer: **\n",
    "1. When we set threshold to 0.5, the diameter of our graph is 2."
   ]
  },
  {
   "cell_type": "markdown",
   "metadata": {},
   "source": [
    "### Question 11\n",
    "\n",
    "Write a function that takes as input the adjacency matrix, a path length, and two nodes (`source` and `target`), and returns the number of paths of the given length between them."
   ]
  },
  {
   "cell_type": "code",
   "execution_count": 29,
   "metadata": {},
   "outputs": [],
   "source": [
    "def compute_paths(adjacency, source, target, length):\n",
    "    \"\"\"Compute the number of paths of a given length between a source and target node.\n",
    "    \n",
    "    Parameters\n",
    "    ----------\n",
    "    adjacency: numpy array\n",
    "        The (weighted) adjacency matrix of a graph.\n",
    "    source: int\n",
    "        The source node. A number between 0 and n_nodes-1.\n",
    "    target: int\n",
    "        The target node. A number between 0 and n_nodes-1.\n",
    "    length: int\n",
    "        The path length to be considered.\n",
    "    \n",
    "    Returns\n",
    "    -------\n",
    "    int\n",
    "        The number of paths.\n",
    "    \"\"\"\n",
    "    \n",
    "    adj = adjacency.copy()\n",
    "    \n",
    "    Matrix = np.identity(adj.shape[0])\n",
    "    \n",
    "    for i in range (length):\n",
    "        \n",
    "        Matrix = Matrix.dot(adj)\n",
    "        \n",
    "    n_paths = Matrix[source][target]\n",
    "    \n",
    "    return n_paths"
   ]
  },
  {
   "cell_type": "markdown",
   "metadata": {},
   "source": [
    "Test your function on 5 pairs of nodes, with different lengths."
   ]
  },
  {
   "cell_type": "code",
   "execution_count": 30,
   "metadata": {},
   "outputs": [
    {
     "name": "stdout",
     "output_type": "stream",
     "text": [
      "When we set threshold to 0.5 ,the number of paths of the given length between the 5 pairs of nodes is:\n",
      "1.0\n",
      "423.0\n",
      "267792.0\n",
      "392.0\n",
      "114133391.0\n"
     ]
    }
   ],
   "source": [
    "Threshold = 0.5\n",
    "adjacency_thres = np.where(adjacency <= Threshold, 0, 1)\n",
    "\n",
    "print('When we set threshold to',Threshold, ',the number of paths of the given length between the 5 pairs of nodes is:')\n",
    "print(compute_paths(adjacency_thres, 0, 10, 1))\n",
    "print(compute_paths(adjacency_thres, 0, 10, 2))\n",
    "print(compute_paths(adjacency_thres, 0, 10, 3))\n",
    "print(compute_paths(adjacency_thres, 23, 67, 2))\n",
    "print(compute_paths(adjacency_thres, 15, 93, 4))"
   ]
  },
  {
   "cell_type": "markdown",
   "metadata": {},
   "source": [
    "### Question 12\n",
    "\n",
    "How many paths of length 3 are there in your graph? Hint: calling the `compute_paths` function on every pair of node is not an efficient way to do it."
   ]
  },
  {
   "cell_type": "code",
   "execution_count": 31,
   "metadata": {},
   "outputs": [],
   "source": [
    "def compute_paths_of_specific_path(adjacency, length):\n",
    "    adj = adjacency.copy()\n",
    "\n",
    "    Matrix = np.identity(adj.shape[0])\n",
    "    \n",
    "    for i in range (length - 1):\n",
    "        \n",
    "        Matrix = Matrix.dot(adj)\n",
    "        \n",
    "    return Matrix.sum()"
   ]
  },
  {
   "cell_type": "code",
   "execution_count": 32,
   "metadata": {},
   "outputs": [
    {
     "name": "stdout",
     "output_type": "stream",
     "text": [
      "When we set threshold to 0.5 , there are 510112550.0 paths of length 3 in our graph\n"
     ]
    }
   ],
   "source": [
    "Threshold = 0.5\n",
    "\n",
    "adjacency_thres = np.where(adjacency <= Threshold, 0, 1)\n",
    "\n",
    "print('When we set threshold to',Threshold, ', there are',compute_paths_of_specific_path(adjacency_thres, 3),'paths of length 3 in our graph')"
   ]
  },
  {
   "cell_type": "markdown",
   "metadata": {},
   "source": [
    "**Answer: **\n",
    "1. When we set threshold to 0.5 , there are 510112550 paths of length 3 in our graph."
   ]
  },
  {
   "cell_type": "markdown",
   "metadata": {},
   "source": [
    "### Question 13\n",
    "\n",
    "Write a function that takes as input the adjacency matrix of your graph (or of the largest connected component of your graph) and a node and returns the clustering coefficient of that node. "
   ]
  },
  {
   "cell_type": "code",
   "execution_count": 33,
   "metadata": {},
   "outputs": [
    {
     "name": "stdout",
     "output_type": "stream",
     "text": [
      "When we set threshold to 0.5 , we have 13 components and the size of largest component is 1201\n"
     ]
    }
   ],
   "source": [
    "# compute the largest connected component of graph\n",
    "Threshold = 0.5\n",
    "components, component_size = find_components(adjacency)\n",
    "largest_component = components[component_size.index(max(component_size))]\n",
    "unweighted_adjacency = np.where(largest_component <= Threshold, 0, 1) #find the largest component and turn it into an unweighted matrix\n",
    "\n",
    "print('When we set threshold to',Threshold, ', we have',component_num,'components ''and the size of largest component is',max(component_size))"
   ]
  },
  {
   "cell_type": "code",
   "execution_count": 34,
   "metadata": {},
   "outputs": [],
   "source": [
    "def compute_clustering_coefficient(unweighted_adjacency, node):\n",
    "    \"\"\"Compute the clustering coefficient of a node.\n",
    "    \n",
    "    Parameters\n",
    "    ----------\n",
    "    adjacency: numpy array\n",
    "        The (weighted) adjacency matrix of a graph.\n",
    "    node: int\n",
    "        The node whose clustering coefficient will be computed. A number between 0 and n_nodes-1.\n",
    "    \n",
    "    Returns\n",
    "    -------\n",
    "    float\n",
    "        The clustering coefficient of the node. A number between 0 and 1.\n",
    "    \"\"\"\n",
    "\n",
    "    k_node_num = np.sum(unweighted_adjacency[node]) #Given a node, find the total number of its neighbors\n",
    "    k_node = np.where(unweighted_adjacency[node] == 1)[0] #find the indexes of its neighbors\n",
    "    \n",
    "    tmp1 = unweighted_adjacency[k_node, :]\n",
    "    tmp2 = tmp1[:, k_node]#find the adjacency that its neighbors form\n",
    "    \n",
    "    L = np.sum(tmp2)/2\n",
    "    \n",
    "    if k_node_num == 0 or k_node_num ==1:\n",
    "        clustering_coefficient = 0#If a node has no neighbors or only one neighbor, then the clustering efficiency is 0 \n",
    "    else:\n",
    "        clustering_coefficient = 2*L/(k_node_num*(k_node_num-1))#calculate clustering efficency\n",
    "    return clustering_coefficient"
   ]
  },
  {
   "cell_type": "code",
   "execution_count": 35,
   "metadata": {},
   "outputs": [
    {
     "name": "stdout",
     "output_type": "stream",
     "text": [
      "When we set threshold to 0.5 , the clustering coefficient of node 8 is 0.9566451612903226\n"
     ]
    }
   ],
   "source": [
    "#you can choose one node to calculcate clustering efficency\n",
    "node = 8\n",
    "print('When we set threshold to',Threshold, ', the clustering coefficient of node', node,'is', compute_clustering_coefficient( unweighted_adjacency, node ))"
   ]
  },
  {
   "cell_type": "markdown",
   "metadata": {},
   "source": [
    "**Answer: **\n",
    "1. When we set threshold to 0.5 , the clustering coefficient of node 8 is 0.9566"
   ]
  },
  {
   "cell_type": "markdown",
   "metadata": {},
   "source": [
    "### Question 14\n",
    "\n",
    "What is the average clustering coefficient of your graph (or of the largest connected component of your graph if your graph is disconnected)? Use the function ``compute_clustering_coefficient`` to determine your answer."
   ]
  },
  {
   "cell_type": "code",
   "execution_count": 36,
   "metadata": {},
   "outputs": [],
   "source": [
    "def compute_average_clustering_coefficient(adjacency):\n",
    "    ''' Calculate clustering efficency for each node and give the mean value\n",
    "    '''\n",
    "    \n",
    "    clustering_coefficient = []\n",
    "    \n",
    "    for i in range(adjacency.shape[0]):\n",
    "        \n",
    "        clustering_coefficient.append(compute_clustering_coefficient(unweighted_adjacency, i))\n",
    "        \n",
    "    average_clustering_coefficient = np.sum(clustering_coefficient)/adjacency.shape[0]\n",
    "    \n",
    "    return average_clustering_coefficient"
   ]
  },
  {
   "cell_type": "code",
   "execution_count": 37,
   "metadata": {},
   "outputs": [
    {
     "name": "stdout",
     "output_type": "stream",
     "text": [
      "When we set threshold to 0.5 , the average clustering coefficient of our graph is 0.8108498998210212\n"
     ]
    }
   ],
   "source": [
    "unweighted_adjacency = np.where(largest_component <= Threshold, 0, 1)\n",
    "print('When we set threshold to',Threshold, ', the average clustering coefficient of our graph is',compute_average_clustering_coefficient(unweighted_adjacency))"
   ]
  },
  {
   "cell_type": "markdown",
   "metadata": {},
   "source": [
    "**Answer: **\n",
    "1. When we set threshold to 0.5 , the average clustering coefficient of our graph is 0.8108."
   ]
  }
 ],
 "metadata": {
  "kernelspec": {
   "display_name": "Python 3",
   "language": "python",
   "name": "python3"
  },
  "language_info": {
   "codemirror_mode": {
    "name": "ipython",
    "version": 3
   },
   "file_extension": ".py",
   "mimetype": "text/x-python",
   "name": "python",
   "nbconvert_exporter": "python",
   "pygments_lexer": "ipython3",
   "version": "3.6.5"
  }
 },
 "nbformat": 4,
 "nbformat_minor": 2
}
